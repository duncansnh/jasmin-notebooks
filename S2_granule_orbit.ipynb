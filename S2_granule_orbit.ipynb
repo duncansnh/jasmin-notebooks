{
 "cells": [
  {
   "cell_type": "markdown",
   "metadata": {},
   "source": [
    "Code to calculate for each granule which orbit has the maximum coverage by using the count of the valid pixel layer"
   ]
  },
  {
   "cell_type": "code",
   "execution_count": 1,
   "metadata": {},
   "outputs": [
    {
     "name": "stdout",
     "output_type": "stream",
     "text": [
      "Activating venv complete\n"
     ]
    }
   ],
   "source": [
    "import os\n",
    "import pip\n",
    "import virtualenv\n",
    "\n",
    "# Activate the venv\n",
    "venv_dir = \"/home/users/abdb2/nb-venvs/venv-notebook\"\n",
    "activate_file = os.path.join(venv_dir, \"bin\", \"activate_this.py\")\n",
    "exec(open(activate_file).read(), dict(__file__=activate_file))\n",
    "print (\"Activating venv complete\")"
   ]
  },
  {
   "cell_type": "code",
   "execution_count": null,
   "metadata": {},
   "outputs": [],
   "source": [
    "import os\n",
    "import sys\n",
    "import glob\n",
    "import gdal\n",
    "import numpy as np\n",
    "import rasterio\n",
    "import pandas as pd\n",
    "\n",
    "# Get pixel mask filenames \n",
    "wd = '/neodc/sentinel_ard/data/sentinel_2/2020/11'\n",
    "grantoproc = ['T29UPB', 'T29VND', 'T29VNE', 'T29VPC', 'T29VPD', 'T29VPE', 'T30UUF', 'T30UUG', \n",
    "                 'T30UVF', 'T30UVG', 'T30UWG', 'T30VUH', 'T30VUJ', 'T30VUK', 'T30VUL', 'T30VVH', \n",
    "                 'T30VVJ', 'T30VVK', 'T30VVL', 'T30VWH', 'T30VWJ', 'T30VWL', 'T30VWM', 'T30VWN', 'T30VXM', 'T30VXN']\n",
    "\n",
    "df = pd.DataFrame(columns = ['Granule','Orbit','Coverage'])\n",
    "row = 0\n",
    "\n",
    "# r = root, d = directories, f = filenames\n",
    "for r, d, f in os.walk(wd, followlinks=True):\n",
    "    for name in glob.fnmatch.filter(f, '*osgb_valid.tif'): # exclude Irish projection\n",
    "        if name.split('_')[3] in grantoproc:\n",
    "            with rasterio.open(os.path.join(r, name), 'r') as s2_image:\n",
    "                valid_array = s2_image.read(1).astype('uint16')\n",
    "                sum_pixel = np.sum(valid_array)\n",
    "            df.loc[row] = [name.split('_')[3],name.split('_')[4],sum_pixel]\n",
    "            row = row+1\n",
    "            \n",
    "# sort and print dataframe\n",
    "df = df.sort_values([\"Granule\", \"Orbit\", \"Coverage\"], ascending = (True, True, True))\n",
    "#print(df)\n",
    "\n",
    "# get max value per granule/orbit combination\n",
    "df_max = df.groupby(['Granule', 'Orbit']).agg({'Coverage': ['max']})\n",
    "df_max.columns = ['pixel_max']\n",
    "df_max = df_max.reset_index()\n",
    "#print(df_max)\n",
    "\n",
    "# get max orbit number\n",
    "idx = df_max.groupby(['Granule'])['pixel_max'].transform(max) == df_max['pixel_max']\n",
    "df_max_orbit = df_max[idx]\n",
    "df_max_orbit = df_max_orbit.reset_index()\n",
    "print(df_max_orbit)"
   ]
  },
  {
   "cell_type": "markdown",
   "metadata": {},
   "source": [
    "Test dictionaries"
   ]
  },
  {
   "cell_type": "code",
   "execution_count": 45,
   "metadata": {},
   "outputs": [
    {
     "name": "stdout",
     "output_type": "stream",
     "text": [
      "granule not in dictionary\n",
      "match_not_found\n"
     ]
    }
   ],
   "source": [
    "orbit_dict = {'T29UPB':['ORB123'],\n",
    "              'T29VND':['ORB023'],\n",
    "              'T29VNE':['ORB023'],\n",
    "              'T29VPC':['ORB123'],\n",
    "              'T29VPD':['ORB123'],\n",
    "              'T29VPE':['ORB023'],\n",
    "              'T30UUF':['ORB080'],\n",
    "              'T30UUG':['ORB123'],\n",
    "              'T30UVF':['ORB080'],\n",
    "              'T30UVG':['ORB080'],\n",
    "              'T30UWG':['ORB037'],\n",
    "              'T30VUH':['ORB123'],\n",
    "              'T30VUJ':['ORB123'],\n",
    "              'T30VUK':['ORB123'],\n",
    "              'T30VUL':['ORB023', 'ORB123'],\n",
    "              'T30VVH':['ORB080'],\n",
    "              'T30VVJ':['ORB080'],\n",
    "              'T30VVK':['ORB123'],\n",
    "              'T30VVL':['ORB123'],\n",
    "              'T30VWH':['ORB037', 'ORB080'],\n",
    "              'T30VWJ':['ORB080'],\n",
    "              'T30VWL':['ORB080'],\n",
    "              'T30VWM':['ORB080'],\n",
    "              'T30VWN':['ORB080','ORB123'],\n",
    "              'T30VXM':['ORB080'],\n",
    "              'T30VXN':['ORB080'], \n",
    "               }\n",
    "\n",
    "gran = 'T30VWQ'\n",
    "orbit_list = orbit_dict.get(gran, 'granule not in dictionary')\n",
    "print(orbit_list)\n",
    "\n",
    "orb = 'ORB080'\n",
    "\n",
    "if orb in orbit_list:\n",
    "    print('match found')\n",
    "else:\n",
    "    print(\"match_not_found\")\n"
   ]
  }
 ],
 "metadata": {
  "kernelspec": {
   "display_name": "Python 3 + Jaspy",
   "language": "python",
   "name": "jaspy"
  },
  "language_info": {
   "codemirror_mode": {
    "name": "ipython",
    "version": 3
   },
   "file_extension": ".py",
   "mimetype": "text/x-python",
   "name": "python",
   "nbconvert_exporter": "python",
   "pygments_lexer": "ipython3",
   "version": "3.7.1"
  }
 },
 "nbformat": 4,
 "nbformat_minor": 4
}
