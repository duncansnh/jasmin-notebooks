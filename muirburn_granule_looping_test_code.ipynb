{
 "cells": [
  {
   "cell_type": "markdown",
   "metadata": {},
   "source": [
    "Activate a virtual environment in JASMIN notebook service"
   ]
  },
  {
   "cell_type": "code",
   "execution_count": 1,
   "metadata": {},
   "outputs": [
    {
     "name": "stdout",
     "output_type": "stream",
     "text": [
      "Activating venv complete\n"
     ]
    }
   ],
   "source": [
    "import os\n",
    "import pip\n",
    "import virtualenv\n",
    "\n",
    "# Activate the venv\n",
    "venv_dir = \"/home/users/abdb2/nb-venvs/venv-notebook\"\n",
    "activate_file = os.path.join(venv_dir, \"bin\", \"activate_this.py\")\n",
    "exec(open(activate_file).read(), dict(__file__=activate_file))\n",
    "print (\"Activating venv complete\")"
   ]
  },
  {
   "cell_type": "markdown",
   "metadata": {},
   "source": [
    "Test code for looping through S2 granules to process.\n",
    "For each granule it is compared against subsequent granules until it is compared with a full granule or the end of the list is reached.\n",
    "This ensures that every part of every granule is compared with at least one other granule of overlapping coverage.\n",
    "However it will increase processing time substantially and lead to some duplication of burn mapping which will need rationalisation."
   ]
  },
  {
   "cell_type": "code",
   "execution_count": null,
   "metadata": {},
   "outputs": [],
   "source": [
    "PROC_GRANULES = ['a', 'b', 'c', 'd']\n",
    "# list of lists containing granule name and granule size\n",
    "granlist = [['a', 0.5],['a', 0.8],['a', 1.2], ['b', 0.4], ['b', 0.9], ['c', 1.8], ['c', 1.1],['d',0.2], ['d', 1.1],['d', 0.3]]\n",
    "\n",
    "# go through each granule \n",
    "for gran in PROC_GRANULES:\n",
    "    # get subset of list containing unique granule name\n",
    "    granlistx = [x for x in granlist if x[0] == gran]\n",
    "    print(*[' '.join(map(str,item)) for item in granlistx], sep='\\n')\n",
    "    print ('-------')\n",
    "    \n",
    "    x = 0\n",
    "    y = 1\n",
    "    newpost = True\n",
    "    # the  last (oldest) image is avoided as a post-fire image as there is nothing to compare it with.\n",
    "    # This might be amended in Phase 3 to find previous image to compare with.\n",
    "    while x < (len(granlistx)-1):\n",
    "        if newpost:\n",
    "            postfire = granlistx[x]\n",
    "\n",
    "        # next item in list becomes pre-fire image\n",
    "        prefire = granlistx[x+y]\n",
    "\n",
    "        print (postfire, prefire, 'compared')\n",
    "\n",
    "        # if pre-fire image is partial and it is not the last in the sublist then next image becomes pre-fire image and post-fire image stays the same\n",
    "        if (prefire[1] < 1) and ((len(granlistx) - (x+1)>1)):\n",
    "            y = y+1\n",
    "            newpost = False\n",
    "            \n",
    "        # if it's a full granule then y is reset to 1 and next image in list becomes the postfire granule\n",
    "        else: \n",
    "            y = 1\n",
    "            x = x+1   \n",
    "            newpost = True\n",
    "    print('-----')"
   ]
  },
  {
   "cell_type": "markdown",
   "metadata": {},
   "source": []
  }
 ],
 "metadata": {
  "kernelspec": {
   "display_name": "Python 3 + Jaspy",
   "language": "python",
   "name": "jaspy"
  },
  "language_info": {
   "codemirror_mode": {
    "name": "ipython",
    "version": 3
   },
   "file_extension": ".py",
   "mimetype": "text/x-python",
   "name": "python",
   "nbconvert_exporter": "python",
   "pygments_lexer": "ipython3",
   "version": "3.7.1"
  }
 },
 "nbformat": 4,
 "nbformat_minor": 4
}
